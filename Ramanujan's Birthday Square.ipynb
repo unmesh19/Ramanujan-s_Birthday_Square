{
 "cells": [
  {
   "cell_type": "code",
   "execution_count": 1,
   "id": "8c9c0fc4-b87b-459d-ac85-f412368ac220",
   "metadata": {
    "scrolled": true
   },
   "outputs": [],
   "source": [
    "import random"
   ]
  },
  {
   "cell_type": "code",
   "execution_count": 2,
   "id": "a3b46353-c042-41e8-a781-c9e02a97f686",
   "metadata": {
    "scrolled": true
   },
   "outputs": [],
   "source": [
    "def date_to_numbers():\n",
    "    date_input = input(\"Enter the date in the format dd mm yyyy: \")\n",
    "    day, month, year = map(int, date_input.split())\n",
    "    first_digit = year // 100\n",
    "    second_digit = year % 100\n",
    "    formatted_month = f\"{month:02d}\"\n",
    "    return day, int(formatted_month), first_digit, second_digit"
   ]
  },
  {
   "cell_type": "code",
   "execution_count": 3,
   "id": "80a7f8b7-077b-4326-86e7-b6da4230cb38",
   "metadata": {
    "scrolled": true
   },
   "outputs": [],
   "source": [
    "def ramanujan_bday_square():\n",
    "    a, b, c, d = date_to_numbers()\n",
    "    \n",
    "    a1 = d + 1\n",
    "    b1 = c - 1\n",
    "    c1 = b - 3\n",
    "    d1 = a + 3\n",
    "\n",
    "    a2 = b - 2\n",
    "    b2 = a + 2\n",
    "    c2 = d + 2\n",
    "    d2 = c - 2\n",
    "\n",
    "    a3 = c + 1\n",
    "    b3 = d - 1\n",
    "    c3 = a + 1\n",
    "    d3 = b - 1\n",
    "        \n",
    "    matrix = [\n",
    "        [a, b, c, d],\n",
    "        [a1, b1, c1, d1],\n",
    "        [a2, b2, c2, d2],\n",
    "        [a3, b3, c3, d3]\n",
    "    ]\n",
    "    return matrix"
   ]
  },
  {
   "cell_type": "code",
   "execution_count": 4,
   "id": "80078141-2009-46cb-90b2-ce96b418c7ad",
   "metadata": {},
   "outputs": [
    {
     "name": "stdin",
     "output_type": "stream",
     "text": [
      "Enter the date in the format dd mm yyyy:  19 02 2002\n"
     ]
    },
    {
     "data": {
      "text/plain": [
       "[[19, 2, 20, 2], [3, 19, -1, 22], [0, 21, 4, 18], [21, 1, 20, 1]]"
      ]
     },
     "execution_count": 4,
     "metadata": {},
     "output_type": "execute_result"
    }
   ],
   "source": [
    "ramanujan_bday_square()"
   ]
  },
  {
   "cell_type": "code",
   "execution_count": null,
   "id": "f5c0d89d-70e7-431f-aac2-ccfd3ae7a4e7",
   "metadata": {},
   "outputs": [],
   "source": []
  }
 ],
 "metadata": {
  "kernelspec": {
   "display_name": "Python 3 (ipykernel)",
   "language": "python",
   "name": "python3"
  },
  "language_info": {
   "codemirror_mode": {
    "name": "ipython",
    "version": 3
   },
   "file_extension": ".py",
   "mimetype": "text/x-python",
   "name": "python",
   "nbconvert_exporter": "python",
   "pygments_lexer": "ipython3",
   "version": "3.11.7"
  }
 },
 "nbformat": 4,
 "nbformat_minor": 5
}
